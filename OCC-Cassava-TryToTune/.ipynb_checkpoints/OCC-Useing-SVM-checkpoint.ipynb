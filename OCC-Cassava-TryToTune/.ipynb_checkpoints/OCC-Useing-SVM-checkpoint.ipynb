{
 "cells": [
  {
   "cell_type": "code",
   "execution_count": 1,
   "id": "f7627182",
   "metadata": {},
   "outputs": [],
   "source": [
    "import logging\n",
    "logging.getLogger(\"tensorflow\").setLevel(logging.ERROR) # this goes *before* tf import"
   ]
  },
  {
   "cell_type": "code",
   "execution_count": 2,
   "id": "002dafc6",
   "metadata": {},
   "outputs": [],
   "source": [
    "from IPython.display import Image, display\n",
    "import numpy as np\n",
    "import os\n",
    "from os.path import join\n",
    "from PIL import ImageFile\n",
    "import pandas as pd\n",
    "from matplotlib import cm\n",
    "import seaborn as sns\n",
    "from tensorflow.keras.models import Sequential\n",
    "from tensorflow.keras.layers import Dense, Flatten, GlobalAveragePooling2D\n",
    "from tensorflow.keras.preprocessing.image import ImageDataGenerator\n",
    "from tensorflow.keras.applications import ResNet50\n",
    "from tensorflow.keras.applications.resnet50 import preprocess_input\n",
    "from tensorflow.keras.preprocessing.image import load_img, img_to_array\n",
    "from sklearn.metrics import mean_squared_error, mean_absolute_error, roc_auc_score, classification_report, confusion_matrix\n",
    "import matplotlib.pyplot as plt\n",
    "from sklearn.utils import shuffle\n",
    "from sklearn.model_selection import train_test_split\n",
    "from sklearn.preprocessing import StandardScaler\n",
    "from sklearn.decomposition import PCA\n",
    "from sklearn.ensemble import IsolationForest\n",
    "from sklearn import svm\n",
    "from sklearn.mixture import GaussianMixture\n",
    "from sklearn.isotonic import IsotonicRegression\n",
    "import re\n",
    "\n",
    "import cv2 as cv\n",
    "import pickle\n",
    "\n",
    "ImageFile.LOAD_TRUNCATED_IMAGES = True\n",
    "plt.style.use('fivethirtyeight')\n",
    "%matplotlib inline"
   ]
  },
  {
   "cell_type": "code",
   "execution_count": 3,
   "id": "e5d5604a",
   "metadata": {},
   "outputs": [],
   "source": [
    "train_img_dir_n = r\"dataset\\pn_dataset/cassava\"\n",
    "train_img_paths_n = [join(train_img_dir_n,filename) for filename in os.listdir(train_img_dir_n)]"
   ]
  },
  {
   "cell_type": "code",
   "execution_count": 4,
   "id": "73a95538",
   "metadata": {},
   "outputs": [],
   "source": [
    "train_img_paths, test_img_paths_cassava = train_test_split(train_img_paths_n, test_size=0.25, random_state=42)\n",
    "train_img_paths, val_img_paths_cassava = train_test_split(train_img_paths, test_size=0.25, random_state=42)"
   ]
  },
  {
   "cell_type": "code",
   "execution_count": 5,
   "id": "39a4c259",
   "metadata": {},
   "outputs": [],
   "source": [
    "natural_images_path = r\"dataset\\pn_dataset/\"\n",
    "test_img_paths_no_cassava = []\n",
    "for d in [d for d in os.listdir(r\"dataset\\pn_dataset\") if d!= \"cassava\"]:\n",
    "    test_img_dir_na = natural_images_path+d\n",
    "    test_img_paths_no_cassava.append([join(test_img_dir_na,filename) for filename in os.listdir(test_img_dir_na)])\n",
    "    \n",
    "test_img_paths_no_cassava_flat = [item for sublist in test_img_paths_no_cassava for item in sublist]\n",
    "test_img_paths_no_cassava, val_img_paths_no_cassava = train_test_split(test_img_paths_no_cassava_flat, test_size = 0.25, random_state = 42)"
   ]
  },
  {
   "cell_type": "code",
   "execution_count": 6,
   "id": "220a1cf1",
   "metadata": {},
   "outputs": [],
   "source": [
    "def natural_img_dir(image_path):\n",
    "    path_regex = r\"pn_dataset\\/(\\w*)\"\n",
    "    if 'pn_dataset' in image_path:\n",
    "        return re.findall(path_regex,image_path,re.MULTILINE)[0].strip()\n",
    "    else:\n",
    "        return 'cassava'"
   ]
  },
  {
   "cell_type": "code",
   "execution_count": 7,
   "id": "d36721e0",
   "metadata": {
    "scrolled": true
   },
   "outputs": [],
   "source": [
    "all_test_paths = test_img_paths_cassava+test_img_paths_no_cassava\n",
    "test_path_df = pd.DataFrame({\n",
    "    'path': all_test_paths,\n",
    "    'is_cassava': [1 if path in test_img_paths_cassava else 0 for path in all_test_paths]\n",
    "})\n",
    "test_path_df = shuffle(test_path_df,random_state = 0).reset_index(drop = True)\n",
    "test_path_df['image_type'] = test_path_df['path'].apply(lambda x: natural_img_dir(x))\n",
    "all_test_paths = test_path_df['path'].tolist()"
   ]
  },
  {
   "cell_type": "code",
   "execution_count": 8,
   "id": "021f1d0d",
   "metadata": {},
   "outputs": [
    {
     "name": "stdout",
     "output_type": "stream",
     "text": [
      "Distribution of Image Types in Test Set\n",
      "cassava      5350\n",
      "fruit         769\n",
      "person        723\n",
      "car           718\n",
      "cat           671\n",
      "flower        633\n",
      "motorbike     600\n",
      "dog           535\n",
      "airplane      525\n",
      "Name: image_type, dtype: int64\n"
     ]
    }
   ],
   "source": [
    "print('Distribution of Image Types in Test Set')\n",
    "print(test_path_df['image_type'].value_counts())"
   ]
  },
  {
   "cell_type": "code",
   "execution_count": 9,
   "id": "f191ca00",
   "metadata": {},
   "outputs": [],
   "source": [
    "all_val_paths = val_img_paths_cassava+val_img_paths_no_cassava\n",
    "val_path_df = pd.DataFrame({\n",
    "    'path': all_val_paths,\n",
    "    'is_cassava': [1 if path in val_img_paths_cassava else 0 for path in all_val_paths]\n",
    "})\n",
    "val_path_df = shuffle(val_path_df,random_state = 0).reset_index(drop = True)\n",
    "val_path_df['image_type'] = val_path_df['path'].apply(lambda x: natural_img_dir(x))\n",
    "all_val_paths = val_path_df['path'].tolist()"
   ]
  },
  {
   "cell_type": "code",
   "execution_count": 10,
   "id": "107147ab",
   "metadata": {},
   "outputs": [
    {
     "name": "stdout",
     "output_type": "stream",
     "text": [
      "Distribution of Image Types in Validation Set\n",
      "cassava      4012\n",
      "person        263\n",
      "car           250\n",
      "fruit         231\n",
      "cat           214\n",
      "flower        210\n",
      "airplane      202\n",
      "motorbike     188\n",
      "dog           167\n",
      "Name: image_type, dtype: int64\n"
     ]
    }
   ],
   "source": [
    "print('Distribution of Image Types in Validation Set')\n",
    "print(val_path_df['image_type'].value_counts())"
   ]
  },
  {
   "cell_type": "markdown",
   "id": "50db608b",
   "metadata": {},
   "source": [
    "# Feature Extraction With ResNet50"
   ]
  },
  {
   "cell_type": "code",
   "execution_count": 11,
   "id": "a45c723c",
   "metadata": {},
   "outputs": [],
   "source": [
    "# prepare images for resnet50\n",
    "image_size = 84\n",
    "def read_and_prep_images(img_paths, img_height=image_size, img_width=image_size):\n",
    "    imgs = [load_img(img_path, target_size=(img_height, img_width)) for img_path in img_paths]\n",
    "    img_array = np.array([img_to_array(img) for img in imgs])\n",
    "    #output = img_array\n",
    "    output = preprocess_input(img_array)\n",
    "    return(output)"
   ]
  },
  {
   "cell_type": "code",
   "execution_count": 12,
   "id": "c712a59f",
   "metadata": {},
   "outputs": [],
   "source": [
    "X_train = read_and_prep_images(train_img_paths)\n",
    "X_test = read_and_prep_images(all_test_paths)\n",
    "X_val = read_and_prep_images(all_val_paths)"
   ]
  },
  {
   "cell_type": "code",
   "execution_count": 13,
   "id": "0cccb187",
   "metadata": {},
   "outputs": [],
   "source": [
    "# get features from resnet50 \n",
    "\n",
    "# resnet_weights_path = 'C:\\Github\\Cassava-Disease-Classification-Using-Line-BOT\\resNet50\\resnet50_weights_tf_dim_ordering_tf_kernels_notop.h5'\n",
    "\n",
    "# X : images numpy array\n",
    "\n"
   ]
  },
  {
   "cell_type": "code",
   "execution_count": 14,
   "id": "43a8ec42",
   "metadata": {
    "scrolled": false
   },
   "outputs": [
    {
     "name": "stdout",
     "output_type": "stream",
     "text": [
      "377/377 [==============================] - 15s 19ms/step\n",
      "329/329 [==============================] - 7s 20ms/step\n"
     ]
    },
    {
     "ename": "ResourceExhaustedError",
     "evalue": "Graph execution error:\n\nDetected at node 'resnet50/conv1_conv/Conv2D' defined at (most recent call last):\n    File \"C:\\Users\\kuric\\anaconda3\\envs\\vocalS\\lib\\runpy.py\", line 197, in _run_module_as_main\n      return _run_code(code, main_globals, None,\n    File \"C:\\Users\\kuric\\anaconda3\\envs\\vocalS\\lib\\runpy.py\", line 87, in _run_code\n      exec(code, run_globals)\n    File \"C:\\Users\\kuric\\anaconda3\\envs\\vocalS\\lib\\site-packages\\ipykernel_launcher.py\", line 17, in <module>\n      app.launch_new_instance()\n    File \"C:\\Users\\kuric\\anaconda3\\envs\\vocalS\\lib\\site-packages\\traitlets\\config\\application.py\", line 846, in launch_instance\n      app.start()\n    File \"C:\\Users\\kuric\\anaconda3\\envs\\vocalS\\lib\\site-packages\\ipykernel\\kernelapp.py\", line 712, in start\n      self.io_loop.start()\n    File \"C:\\Users\\kuric\\anaconda3\\envs\\vocalS\\lib\\site-packages\\tornado\\platform\\asyncio.py\", line 215, in start\n      self.asyncio_loop.run_forever()\n    File \"C:\\Users\\kuric\\anaconda3\\envs\\vocalS\\lib\\asyncio\\base_events.py\", line 601, in run_forever\n      self._run_once()\n    File \"C:\\Users\\kuric\\anaconda3\\envs\\vocalS\\lib\\asyncio\\base_events.py\", line 1905, in _run_once\n      handle._run()\n    File \"C:\\Users\\kuric\\anaconda3\\envs\\vocalS\\lib\\asyncio\\events.py\", line 80, in _run\n      self._context.run(self._callback, *self._args)\n    File \"C:\\Users\\kuric\\anaconda3\\envs\\vocalS\\lib\\site-packages\\ipykernel\\kernelbase.py\", line 510, in dispatch_queue\n      await self.process_one()\n    File \"C:\\Users\\kuric\\anaconda3\\envs\\vocalS\\lib\\site-packages\\ipykernel\\kernelbase.py\", line 499, in process_one\n      await dispatch(*args)\n    File \"C:\\Users\\kuric\\anaconda3\\envs\\vocalS\\lib\\site-packages\\ipykernel\\kernelbase.py\", line 406, in dispatch_shell\n      await result\n    File \"C:\\Users\\kuric\\anaconda3\\envs\\vocalS\\lib\\site-packages\\ipykernel\\kernelbase.py\", line 730, in execute_request\n      reply_content = await reply_content\n    File \"C:\\Users\\kuric\\anaconda3\\envs\\vocalS\\lib\\site-packages\\ipykernel\\ipkernel.py\", line 383, in do_execute\n      res = shell.run_cell(\n    File \"C:\\Users\\kuric\\anaconda3\\envs\\vocalS\\lib\\site-packages\\ipykernel\\zmqshell.py\", line 528, in run_cell\n      return super().run_cell(*args, **kwargs)\n    File \"C:\\Users\\kuric\\anaconda3\\envs\\vocalS\\lib\\site-packages\\IPython\\core\\interactiveshell.py\", line 2940, in run_cell\n      result = self._run_cell(\n    File \"C:\\Users\\kuric\\anaconda3\\envs\\vocalS\\lib\\site-packages\\IPython\\core\\interactiveshell.py\", line 2995, in _run_cell\n      return runner(coro)\n    File \"C:\\Users\\kuric\\anaconda3\\envs\\vocalS\\lib\\site-packages\\IPython\\core\\async_helpers.py\", line 129, in _pseudo_sync_runner\n      coro.send(None)\n    File \"C:\\Users\\kuric\\anaconda3\\envs\\vocalS\\lib\\site-packages\\IPython\\core\\interactiveshell.py\", line 3194, in run_cell_async\n      has_raised = await self.run_ast_nodes(code_ast.body, cell_name,\n    File \"C:\\Users\\kuric\\anaconda3\\envs\\vocalS\\lib\\site-packages\\IPython\\core\\interactiveshell.py\", line 3373, in run_ast_nodes\n      if await self.run_code(code, result, async_=asy):\n    File \"C:\\Users\\kuric\\anaconda3\\envs\\vocalS\\lib\\site-packages\\IPython\\core\\interactiveshell.py\", line 3433, in run_code\n      exec(code_obj, self.user_global_ns, self.user_ns)\n    File \"C:\\Users\\kuric\\AppData\\Local\\Temp\\ipykernel_22676\\245820694.py\", line 10, in <module>\n      X_train = resnet_model.predict(X_train)\n    File \"C:\\Users\\kuric\\anaconda3\\envs\\vocalS\\lib\\site-packages\\keras\\utils\\traceback_utils.py\", line 65, in error_handler\n      return fn(*args, **kwargs)\n    File \"C:\\Users\\kuric\\anaconda3\\envs\\vocalS\\lib\\site-packages\\keras\\engine\\training.py\", line 2253, in predict\n      tmp_batch_outputs = self.predict_function(iterator)\n    File \"C:\\Users\\kuric\\anaconda3\\envs\\vocalS\\lib\\site-packages\\keras\\engine\\training.py\", line 2041, in predict_function\n      return step_function(self, iterator)\n    File \"C:\\Users\\kuric\\anaconda3\\envs\\vocalS\\lib\\site-packages\\keras\\engine\\training.py\", line 2027, in step_function\n      outputs = model.distribute_strategy.run(run_step, args=(data,))\n    File \"C:\\Users\\kuric\\anaconda3\\envs\\vocalS\\lib\\site-packages\\keras\\engine\\training.py\", line 2015, in run_step\n      outputs = model.predict_step(data)\n    File \"C:\\Users\\kuric\\anaconda3\\envs\\vocalS\\lib\\site-packages\\keras\\engine\\training.py\", line 1983, in predict_step\n      return self(x, training=False)\n    File \"C:\\Users\\kuric\\anaconda3\\envs\\vocalS\\lib\\site-packages\\keras\\utils\\traceback_utils.py\", line 65, in error_handler\n      return fn(*args, **kwargs)\n    File \"C:\\Users\\kuric\\anaconda3\\envs\\vocalS\\lib\\site-packages\\keras\\engine\\training.py\", line 557, in __call__\n      return super().__call__(*args, **kwargs)\n    File \"C:\\Users\\kuric\\anaconda3\\envs\\vocalS\\lib\\site-packages\\keras\\utils\\traceback_utils.py\", line 65, in error_handler\n      return fn(*args, **kwargs)\n    File \"C:\\Users\\kuric\\anaconda3\\envs\\vocalS\\lib\\site-packages\\keras\\engine\\base_layer.py\", line 1097, in __call__\n      outputs = call_fn(inputs, *args, **kwargs)\n    File \"C:\\Users\\kuric\\anaconda3\\envs\\vocalS\\lib\\site-packages\\keras\\utils\\traceback_utils.py\", line 96, in error_handler\n      return fn(*args, **kwargs)\n    File \"C:\\Users\\kuric\\anaconda3\\envs\\vocalS\\lib\\site-packages\\keras\\engine\\functional.py\", line 510, in call\n      return self._run_internal_graph(inputs, training=training, mask=mask)\n    File \"C:\\Users\\kuric\\anaconda3\\envs\\vocalS\\lib\\site-packages\\keras\\engine\\functional.py\", line 667, in _run_internal_graph\n      outputs = node.layer(*args, **kwargs)\n    File \"C:\\Users\\kuric\\anaconda3\\envs\\vocalS\\lib\\site-packages\\keras\\utils\\traceback_utils.py\", line 65, in error_handler\n      return fn(*args, **kwargs)\n    File \"C:\\Users\\kuric\\anaconda3\\envs\\vocalS\\lib\\site-packages\\keras\\engine\\base_layer.py\", line 1097, in __call__\n      outputs = call_fn(inputs, *args, **kwargs)\n    File \"C:\\Users\\kuric\\anaconda3\\envs\\vocalS\\lib\\site-packages\\keras\\utils\\traceback_utils.py\", line 96, in error_handler\n      return fn(*args, **kwargs)\n    File \"C:\\Users\\kuric\\anaconda3\\envs\\vocalS\\lib\\site-packages\\keras\\layers\\convolutional\\base_conv.py\", line 283, in call\n      outputs = self.convolution_op(inputs, self.kernel)\n    File \"C:\\Users\\kuric\\anaconda3\\envs\\vocalS\\lib\\site-packages\\keras\\layers\\convolutional\\base_conv.py\", line 255, in convolution_op\n      return tf.nn.convolution(\nNode: 'resnet50/conv1_conv/Conv2D'\nOOM when allocating tensor with shape[32,64,64,64] and type float on /job:localhost/replica:0/task:0/device:GPU:0 by allocator GPU_0_bfc\n\t [[{{node resnet50/conv1_conv/Conv2D}}]]\nHint: If you want to see a list of allocated tensors when OOM happens, add report_tensor_allocations_upon_oom to RunOptions for current allocation info. This isn't available when running in Eager mode.\n [Op:__inference_predict_function_5044]",
     "output_type": "error",
     "traceback": [
      "\u001b[1;31m---------------------------------------------------------------------------\u001b[0m",
      "\u001b[1;31mResourceExhaustedError\u001b[0m                    Traceback (most recent call last)",
      "Cell \u001b[1;32mIn [14], line 12\u001b[0m\n\u001b[0;32m     10\u001b[0m X_train \u001b[38;5;241m=\u001b[39m resnet_model\u001b[38;5;241m.\u001b[39mpredict(X_train)\n\u001b[0;32m     11\u001b[0m X_test \u001b[38;5;241m=\u001b[39m resnet_model\u001b[38;5;241m.\u001b[39mpredict(X_test)\n\u001b[1;32m---> 12\u001b[0m X_val \u001b[38;5;241m=\u001b[39m \u001b[43mresnet_model\u001b[49m\u001b[38;5;241;43m.\u001b[39;49m\u001b[43mpredict\u001b[49m\u001b[43m(\u001b[49m\u001b[43mX_val\u001b[49m\u001b[43m)\u001b[49m\n",
      "File \u001b[1;32m~\\anaconda3\\envs\\vocalS\\lib\\site-packages\\keras\\utils\\traceback_utils.py:70\u001b[0m, in \u001b[0;36mfilter_traceback.<locals>.error_handler\u001b[1;34m(*args, **kwargs)\u001b[0m\n\u001b[0;32m     67\u001b[0m     filtered_tb \u001b[38;5;241m=\u001b[39m _process_traceback_frames(e\u001b[38;5;241m.\u001b[39m__traceback__)\n\u001b[0;32m     68\u001b[0m     \u001b[38;5;66;03m# To get the full stack trace, call:\u001b[39;00m\n\u001b[0;32m     69\u001b[0m     \u001b[38;5;66;03m# `tf.debugging.disable_traceback_filtering()`\u001b[39;00m\n\u001b[1;32m---> 70\u001b[0m     \u001b[38;5;28;01mraise\u001b[39;00m e\u001b[38;5;241m.\u001b[39mwith_traceback(filtered_tb) \u001b[38;5;28;01mfrom\u001b[39;00m \u001b[38;5;28mNone\u001b[39m\n\u001b[0;32m     71\u001b[0m \u001b[38;5;28;01mfinally\u001b[39;00m:\n\u001b[0;32m     72\u001b[0m     \u001b[38;5;28;01mdel\u001b[39;00m filtered_tb\n",
      "File \u001b[1;32m~\\anaconda3\\envs\\vocalS\\lib\\site-packages\\tensorflow\\python\\eager\\execute.py:54\u001b[0m, in \u001b[0;36mquick_execute\u001b[1;34m(op_name, num_outputs, inputs, attrs, ctx, name)\u001b[0m\n\u001b[0;32m     52\u001b[0m \u001b[38;5;28;01mtry\u001b[39;00m:\n\u001b[0;32m     53\u001b[0m   ctx\u001b[38;5;241m.\u001b[39mensure_initialized()\n\u001b[1;32m---> 54\u001b[0m   tensors \u001b[38;5;241m=\u001b[39m pywrap_tfe\u001b[38;5;241m.\u001b[39mTFE_Py_Execute(ctx\u001b[38;5;241m.\u001b[39m_handle, device_name, op_name,\n\u001b[0;32m     55\u001b[0m                                       inputs, attrs, num_outputs)\n\u001b[0;32m     56\u001b[0m \u001b[38;5;28;01mexcept\u001b[39;00m core\u001b[38;5;241m.\u001b[39m_NotOkStatusException \u001b[38;5;28;01mas\u001b[39;00m e:\n\u001b[0;32m     57\u001b[0m   \u001b[38;5;28;01mif\u001b[39;00m name \u001b[38;5;129;01mis\u001b[39;00m \u001b[38;5;129;01mnot\u001b[39;00m \u001b[38;5;28;01mNone\u001b[39;00m:\n",
      "\u001b[1;31mResourceExhaustedError\u001b[0m: Graph execution error:\n\nDetected at node 'resnet50/conv1_conv/Conv2D' defined at (most recent call last):\n    File \"C:\\Users\\kuric\\anaconda3\\envs\\vocalS\\lib\\runpy.py\", line 197, in _run_module_as_main\n      return _run_code(code, main_globals, None,\n    File \"C:\\Users\\kuric\\anaconda3\\envs\\vocalS\\lib\\runpy.py\", line 87, in _run_code\n      exec(code, run_globals)\n    File \"C:\\Users\\kuric\\anaconda3\\envs\\vocalS\\lib\\site-packages\\ipykernel_launcher.py\", line 17, in <module>\n      app.launch_new_instance()\n    File \"C:\\Users\\kuric\\anaconda3\\envs\\vocalS\\lib\\site-packages\\traitlets\\config\\application.py\", line 846, in launch_instance\n      app.start()\n    File \"C:\\Users\\kuric\\anaconda3\\envs\\vocalS\\lib\\site-packages\\ipykernel\\kernelapp.py\", line 712, in start\n      self.io_loop.start()\n    File \"C:\\Users\\kuric\\anaconda3\\envs\\vocalS\\lib\\site-packages\\tornado\\platform\\asyncio.py\", line 215, in start\n      self.asyncio_loop.run_forever()\n    File \"C:\\Users\\kuric\\anaconda3\\envs\\vocalS\\lib\\asyncio\\base_events.py\", line 601, in run_forever\n      self._run_once()\n    File \"C:\\Users\\kuric\\anaconda3\\envs\\vocalS\\lib\\asyncio\\base_events.py\", line 1905, in _run_once\n      handle._run()\n    File \"C:\\Users\\kuric\\anaconda3\\envs\\vocalS\\lib\\asyncio\\events.py\", line 80, in _run\n      self._context.run(self._callback, *self._args)\n    File \"C:\\Users\\kuric\\anaconda3\\envs\\vocalS\\lib\\site-packages\\ipykernel\\kernelbase.py\", line 510, in dispatch_queue\n      await self.process_one()\n    File \"C:\\Users\\kuric\\anaconda3\\envs\\vocalS\\lib\\site-packages\\ipykernel\\kernelbase.py\", line 499, in process_one\n      await dispatch(*args)\n    File \"C:\\Users\\kuric\\anaconda3\\envs\\vocalS\\lib\\site-packages\\ipykernel\\kernelbase.py\", line 406, in dispatch_shell\n      await result\n    File \"C:\\Users\\kuric\\anaconda3\\envs\\vocalS\\lib\\site-packages\\ipykernel\\kernelbase.py\", line 730, in execute_request\n      reply_content = await reply_content\n    File \"C:\\Users\\kuric\\anaconda3\\envs\\vocalS\\lib\\site-packages\\ipykernel\\ipkernel.py\", line 383, in do_execute\n      res = shell.run_cell(\n    File \"C:\\Users\\kuric\\anaconda3\\envs\\vocalS\\lib\\site-packages\\ipykernel\\zmqshell.py\", line 528, in run_cell\n      return super().run_cell(*args, **kwargs)\n    File \"C:\\Users\\kuric\\anaconda3\\envs\\vocalS\\lib\\site-packages\\IPython\\core\\interactiveshell.py\", line 2940, in run_cell\n      result = self._run_cell(\n    File \"C:\\Users\\kuric\\anaconda3\\envs\\vocalS\\lib\\site-packages\\IPython\\core\\interactiveshell.py\", line 2995, in _run_cell\n      return runner(coro)\n    File \"C:\\Users\\kuric\\anaconda3\\envs\\vocalS\\lib\\site-packages\\IPython\\core\\async_helpers.py\", line 129, in _pseudo_sync_runner\n      coro.send(None)\n    File \"C:\\Users\\kuric\\anaconda3\\envs\\vocalS\\lib\\site-packages\\IPython\\core\\interactiveshell.py\", line 3194, in run_cell_async\n      has_raised = await self.run_ast_nodes(code_ast.body, cell_name,\n    File \"C:\\Users\\kuric\\anaconda3\\envs\\vocalS\\lib\\site-packages\\IPython\\core\\interactiveshell.py\", line 3373, in run_ast_nodes\n      if await self.run_code(code, result, async_=asy):\n    File \"C:\\Users\\kuric\\anaconda3\\envs\\vocalS\\lib\\site-packages\\IPython\\core\\interactiveshell.py\", line 3433, in run_code\n      exec(code_obj, self.user_global_ns, self.user_ns)\n    File \"C:\\Users\\kuric\\AppData\\Local\\Temp\\ipykernel_22676\\245820694.py\", line 10, in <module>\n      X_train = resnet_model.predict(X_train)\n    File \"C:\\Users\\kuric\\anaconda3\\envs\\vocalS\\lib\\site-packages\\keras\\utils\\traceback_utils.py\", line 65, in error_handler\n      return fn(*args, **kwargs)\n    File \"C:\\Users\\kuric\\anaconda3\\envs\\vocalS\\lib\\site-packages\\keras\\engine\\training.py\", line 2253, in predict\n      tmp_batch_outputs = self.predict_function(iterator)\n    File \"C:\\Users\\kuric\\anaconda3\\envs\\vocalS\\lib\\site-packages\\keras\\engine\\training.py\", line 2041, in predict_function\n      return step_function(self, iterator)\n    File \"C:\\Users\\kuric\\anaconda3\\envs\\vocalS\\lib\\site-packages\\keras\\engine\\training.py\", line 2027, in step_function\n      outputs = model.distribute_strategy.run(run_step, args=(data,))\n    File \"C:\\Users\\kuric\\anaconda3\\envs\\vocalS\\lib\\site-packages\\keras\\engine\\training.py\", line 2015, in run_step\n      outputs = model.predict_step(data)\n    File \"C:\\Users\\kuric\\anaconda3\\envs\\vocalS\\lib\\site-packages\\keras\\engine\\training.py\", line 1983, in predict_step\n      return self(x, training=False)\n    File \"C:\\Users\\kuric\\anaconda3\\envs\\vocalS\\lib\\site-packages\\keras\\utils\\traceback_utils.py\", line 65, in error_handler\n      return fn(*args, **kwargs)\n    File \"C:\\Users\\kuric\\anaconda3\\envs\\vocalS\\lib\\site-packages\\keras\\engine\\training.py\", line 557, in __call__\n      return super().__call__(*args, **kwargs)\n    File \"C:\\Users\\kuric\\anaconda3\\envs\\vocalS\\lib\\site-packages\\keras\\utils\\traceback_utils.py\", line 65, in error_handler\n      return fn(*args, **kwargs)\n    File \"C:\\Users\\kuric\\anaconda3\\envs\\vocalS\\lib\\site-packages\\keras\\engine\\base_layer.py\", line 1097, in __call__\n      outputs = call_fn(inputs, *args, **kwargs)\n    File \"C:\\Users\\kuric\\anaconda3\\envs\\vocalS\\lib\\site-packages\\keras\\utils\\traceback_utils.py\", line 96, in error_handler\n      return fn(*args, **kwargs)\n    File \"C:\\Users\\kuric\\anaconda3\\envs\\vocalS\\lib\\site-packages\\keras\\engine\\functional.py\", line 510, in call\n      return self._run_internal_graph(inputs, training=training, mask=mask)\n    File \"C:\\Users\\kuric\\anaconda3\\envs\\vocalS\\lib\\site-packages\\keras\\engine\\functional.py\", line 667, in _run_internal_graph\n      outputs = node.layer(*args, **kwargs)\n    File \"C:\\Users\\kuric\\anaconda3\\envs\\vocalS\\lib\\site-packages\\keras\\utils\\traceback_utils.py\", line 65, in error_handler\n      return fn(*args, **kwargs)\n    File \"C:\\Users\\kuric\\anaconda3\\envs\\vocalS\\lib\\site-packages\\keras\\engine\\base_layer.py\", line 1097, in __call__\n      outputs = call_fn(inputs, *args, **kwargs)\n    File \"C:\\Users\\kuric\\anaconda3\\envs\\vocalS\\lib\\site-packages\\keras\\utils\\traceback_utils.py\", line 96, in error_handler\n      return fn(*args, **kwargs)\n    File \"C:\\Users\\kuric\\anaconda3\\envs\\vocalS\\lib\\site-packages\\keras\\layers\\convolutional\\base_conv.py\", line 283, in call\n      outputs = self.convolution_op(inputs, self.kernel)\n    File \"C:\\Users\\kuric\\anaconda3\\envs\\vocalS\\lib\\site-packages\\keras\\layers\\convolutional\\base_conv.py\", line 255, in convolution_op\n      return tf.nn.convolution(\nNode: 'resnet50/conv1_conv/Conv2D'\nOOM when allocating tensor with shape[32,64,64,64] and type float on /job:localhost/replica:0/task:0/device:GPU:0 by allocator GPU_0_bfc\n\t [[{{node resnet50/conv1_conv/Conv2D}}]]\nHint: If you want to see a list of allocated tensors when OOM happens, add report_tensor_allocations_upon_oom to RunOptions for current allocation info. This isn't available when running in Eager mode.\n [Op:__inference_predict_function_5044]"
     ]
    }
   ],
   "source": [
    "# get features from resnet50 \n",
    "\n",
    "# resnet_weights_path = 'C:\\Github\\Cassava-Disease-Classification-Using-Line-BOT\\resNet50\\resnet50_weights_tf_dim_ordering_tf_kernels_notop.h5'\n",
    "\n",
    "# X : images numpy array\n",
    "\n",
    "from tensorflow.keras.applications import ResNet50\n",
    "resnet_model = ResNet50(input_shape=(image_size, image_size, 3),weights=\"imagenet\",include_top=False, pooling='avg')  # Since top layer is the fc layer used for predictions\n",
    "\n",
    "X_train = resnet_model.predict(X_train)\n",
    "X_test = resnet_model.predict(X_test)\n",
    "X_val = resnet_model.predict(X_val)"
   ]
  },
  {
   "cell_type": "markdown",
   "id": "845eba67",
   "metadata": {},
   "source": [
    "# Scaling and PCA"
   ]
  },
  {
   "cell_type": "code",
   "execution_count": null,
   "id": "2a1e94f0",
   "metadata": {},
   "outputs": [],
   "source": [
    "# # Apply standard scaler to output from resnet50\n",
    "# ss = StandardScaler()\n",
    "# ss.fit(X_train)\n",
    "# X_train = ss.transform(X_train)\n",
    "# X_test = ss.transform(X_test)\n",
    "# X_val = ss.transform(X_val)\n",
    "\n",
    "# # Take PCA to reduce feature space dimensionality\n",
    "# pca = PCA(n_components=512, whiten=True)\n",
    "# pca = pca.fit(X_train)\n",
    "# print('Explained variance percentage = %0.2f' % sum(pca.explained_variance_ratio_))\n",
    "# X_train = pca.transform(X_train)\n",
    "# X_test = pca.transform(X_test)\n",
    "# X_val = pca.transform(X_val)"
   ]
  },
  {
   "cell_type": "markdown",
   "id": "484fc3c3",
   "metadata": {},
   "source": [
    "# One Class SVM vs Isolation Forest"
   ]
  },
  {
   "cell_type": "code",
   "execution_count": null,
   "id": "6b49e058",
   "metadata": {},
   "outputs": [],
   "source": [
    "# Train classifier and obtain predictions for OC-SVM\n",
    "oc_svm_clf = svm.OneClassSVM(gamma=0.001, kernel='rbf', nu=0.08)  # Obtained using grid search\n",
    "if_clf = IsolationForest(contamination=0.08, max_features=1.0, max_samples=1.0, n_estimators=40)  # Obtained using grid search\n",
    "\n",
    "from keras.callbacks import ReduceLROnPlateau\n",
    "reduce_lr = ReduceLROnPlateau(monitor='val_loss', factor=0.2,verbose=1, mode=\"auto\",patience=3)\n",
    "\n",
    "oc_svm_clf.fit(X_train)\n",
    "if_clf.fit(X_train)\n",
    "\n",
    "oc_svm_preds = oc_svm_clf.predict(X_test)\n",
    "if_preds = if_clf.predict(X_test)"
   ]
  },
  {
   "cell_type": "code",
   "execution_count": null,
   "id": "842f01b0",
   "metadata": {},
   "outputs": [],
   "source": [
    "svm_if_results=pd.DataFrame({\n",
    "  'path': all_test_paths,\n",
    "  'oc_svm_preds': [0 if x == -1 else 1 for x in oc_svm_preds],\n",
    "  'if_preds': [0 if x == -1 else 1 for x in if_preds]\n",
    "})\n",
    "\n",
    "\n",
    "svm_if_results=svm_if_results.merge(test_path_df)\n",
    "svm_if_results.head()"
   ]
  },
  {
   "cell_type": "code",
   "execution_count": null,
   "id": "1d579316",
   "metadata": {},
   "outputs": [],
   "source": [
    "print('roc auc score: if_preds')\n",
    "if_preds=svm_if_results['if_preds']\n",
    "actual=svm_if_results['is_cassava']\n",
    "print(roc_auc_score(actual, if_preds))\n",
    "print(classification_report(actual, if_preds))\n",
    "sns.heatmap(confusion_matrix(actual, if_preds),annot=True,fmt='2.0f')\n",
    "plt.show()"
   ]
  },
  {
   "cell_type": "code",
   "execution_count": null,
   "id": "30f58afe",
   "metadata": {},
   "outputs": [],
   "source": [
    "print('roc auc score: oc_svm_preds')\n",
    "oc_svm_preds=svm_if_results['oc_svm_preds']\n",
    "actual=svm_if_results['is_cassava']\n",
    "print(roc_auc_score(actual, oc_svm_preds))\n",
    "print(classification_report(actual, oc_svm_preds))\n",
    "sns.heatmap(confusion_matrix(actual, oc_svm_preds),annot=True,fmt='2.0f')\n",
    "plt.show()"
   ]
  },
  {
   "cell_type": "code",
   "execution_count": null,
   "id": "e185ad9f",
   "metadata": {
    "scrolled": false
   },
   "outputs": [],
   "source": [
    "for index, row in svm_if_results[svm_if_results['oc_svm_preds']!=svm_if_results['is_cassava']].head(2).iterrows():\n",
    "    if row['oc_svm_preds']==1:\n",
    "        print('FALSE POSITIVE')\n",
    "        print('oc_svm_preds: ' + str(row['oc_svm_preds']) + ' | actual: '+ str(row['is_cassava']))\n",
    "        display(Image(row['path']))\n",
    "    else:\n",
    "        print('FALSE NEGATIVE')\n",
    "        print('oc_svm_preds: ' + str(row['oc_svm_preds']) + ' | actual: '+ str(row['is_cassava']))\n",
    "        display(Image(row['path']))"
   ]
  },
  {
   "cell_type": "code",
   "execution_count": null,
   "id": "c0be1473",
   "metadata": {},
   "outputs": [],
   "source": [
    "# Save Model \n",
    "pickle.dump(oc_svm_clf, open(\"model/OCC_SVM_VER_01.sav\", 'wb'))"
   ]
  },
  {
   "cell_type": "markdown",
   "id": "c231bec8",
   "metadata": {},
   "source": [
    "# Prediction"
   ]
  },
  {
   "cell_type": "code",
   "execution_count": null,
   "id": "5031629f",
   "metadata": {},
   "outputs": [],
   "source": [
    "import pickle\n",
    "import cv2 as cv\n",
    "from tensorflow.keras.applications import ResNet50\n",
    "from tensorflow.keras.applications.resnet50 import preprocess_input\n",
    "from tensorflow.keras.preprocessing.image import load_img"
   ]
  },
  {
   "cell_type": "code",
   "execution_count": null,
   "id": "0512c1fa",
   "metadata": {},
   "outputs": [],
   "source": [
    "# predict one by one , Khae Long Mai Ru Thuk Mai\n",
    "\n",
    "def pred_(img_path):\n",
    "    image_size = 128\n",
    "\n",
    "    # Initialize model \n",
    "    occ_model = pickle.load(open(\"model/OCC_SVM_VER_01.sav\", 'rb'))\n",
    "    resnet_model = ResNet50(input_shape=(image_size, image_size, 3), weights=\"imagenet\", include_top=False, pooling='avg') \n",
    "\n",
    "    # Load Image\n",
    "    test_imgs = cv.imread(img_path)\n",
    "    type(test_imgs)\n",
    "    test_imgs = cv.cvtColor(test_imgs, cv.COLOR_BGR2RGB)\n",
    "    test_imgs = cv.resize(test_imgs, (image_size, image_size)).reshape(-1, image_size, image_size, 3)\n",
    "    output = preprocess_input(test_imgs)\n",
    "\n",
    "    # Feature Extraction Using RESNET-50\n",
    "    img_predict = resnet_model.predict(output)\n",
    "\n",
    "    # Predict \n",
    "    oc_svm_preds = occ_model.predict(img_predict)\n",
    "\n",
    "    # output\n",
    "    if(oc_svm_preds[0]==-1):\n",
    "        pred = 0\n",
    "    else:\n",
    "        pred = 1\n",
    "    print(f\"RESULT : {pred}\")\n"
   ]
  },
  {
   "cell_type": "code",
   "execution_count": null,
   "id": "dfbba9d6",
   "metadata": {},
   "outputs": [],
   "source": [
    "display(load_img(r\"test\\01.jpg\"))\n",
    "pred_(r\"test\\01.jpg\")\n",
    "display(load_img(r\"test\\02.jpg\"))\n",
    "pred_(r\"test\\02.jpg\")"
   ]
  },
  {
   "cell_type": "code",
   "execution_count": null,
   "id": "441afadb",
   "metadata": {},
   "outputs": [],
   "source": []
  },
  {
   "cell_type": "code",
   "execution_count": null,
   "id": "5af2b8b6",
   "metadata": {},
   "outputs": [],
   "source": []
  },
  {
   "cell_type": "code",
   "execution_count": null,
   "id": "9a1bffd2",
   "metadata": {},
   "outputs": [],
   "source": []
  },
  {
   "cell_type": "code",
   "execution_count": null,
   "id": "cb9d862c",
   "metadata": {},
   "outputs": [],
   "source": []
  }
 ],
 "metadata": {
  "kernelspec": {
   "display_name": "Python [conda env:vocalS]",
   "language": "python",
   "name": "conda-env-vocalS-py"
  },
  "language_info": {
   "codemirror_mode": {
    "name": "ipython",
    "version": 3
   },
   "file_extension": ".py",
   "mimetype": "text/x-python",
   "name": "python",
   "nbconvert_exporter": "python",
   "pygments_lexer": "ipython3",
   "version": "3.9.15"
  }
 },
 "nbformat": 4,
 "nbformat_minor": 5
}
