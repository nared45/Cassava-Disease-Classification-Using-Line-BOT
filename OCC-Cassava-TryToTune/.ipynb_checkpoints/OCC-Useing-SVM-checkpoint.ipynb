{
 "cells": [
  {
   "cell_type": "code",
   "execution_count": 1,
   "id": "f7627182",
   "metadata": {},
   "outputs": [],
   "source": [
    "import logging\n",
    "logging.getLogger(\"tensorflow\").setLevel(logging.ERROR) # this goes *before* tf import"
   ]
  },
  {
   "cell_type": "code",
   "execution_count": 2,
   "id": "002dafc6",
   "metadata": {},
   "outputs": [],
   "source": [
    "from IPython.display import Image, display\n",
    "import numpy as np\n",
    "import os\n",
    "from os.path import join\n",
    "from PIL import ImageFile\n",
    "import pandas as pd\n",
    "from matplotlib import cm\n",
    "import seaborn as sns\n",
    "from tensorflow.keras.models import Sequential\n",
    "from tensorflow.keras.layers import Dense, Flatten, GlobalAveragePooling2D\n",
    "from tensorflow.keras.preprocessing.image import ImageDataGenerator\n",
    "from tensorflow.keras.applications import ResNet50\n",
    "from tensorflow.keras.applications.resnet50 import preprocess_input\n",
    "from tensorflow.keras.preprocessing.image import load_img, img_to_array\n",
    "from sklearn.metrics import mean_squared_error, mean_absolute_error, roc_auc_score, classification_report, confusion_matrix\n",
    "import matplotlib.pyplot as plt\n",
    "from sklearn.utils import shuffle\n",
    "from sklearn.model_selection import train_test_split\n",
    "from sklearn.preprocessing import StandardScaler\n",
    "from sklearn.decomposition import PCA\n",
    "from sklearn.ensemble import IsolationForest\n",
    "from sklearn import svm\n",
    "from sklearn.mixture import GaussianMixture\n",
    "from sklearn.isotonic import IsotonicRegression\n",
    "import re\n",
    "\n",
    "import cv2 as cv\n",
    "import pickle\n",
    "\n",
    "ImageFile.LOAD_TRUNCATED_IMAGES = True\n",
    "plt.style.use('fivethirtyeight')\n",
    "%matplotlib inline"
   ]
  },
  {
   "cell_type": "code",
   "execution_count": 3,
   "id": "e5d5604a",
   "metadata": {},
   "outputs": [
    {
     "ename": "FileNotFoundError",
     "evalue": "[WinError 3] The system cannot find the path specified: 'datasetBig\\\\pn_dataset/cassava'",
     "output_type": "error",
     "traceback": [
      "\u001b[1;31m---------------------------------------------------------------------------\u001b[0m",
      "\u001b[1;31mFileNotFoundError\u001b[0m                         Traceback (most recent call last)",
      "Cell \u001b[1;32mIn [3], line 2\u001b[0m\n\u001b[0;32m      1\u001b[0m train_img_dir_n \u001b[38;5;241m=\u001b[39m \u001b[38;5;124mr\u001b[39m\u001b[38;5;124m\"\u001b[39m\u001b[38;5;124mdatasetBig\u001b[39m\u001b[38;5;124m\\\u001b[39m\u001b[38;5;124mpn_dataset/cassava\u001b[39m\u001b[38;5;124m\"\u001b[39m\n\u001b[1;32m----> 2\u001b[0m train_img_paths_n \u001b[38;5;241m=\u001b[39m [join(train_img_dir_n,filename) \u001b[38;5;28;01mfor\u001b[39;00m filename \u001b[38;5;129;01min\u001b[39;00m \u001b[43mos\u001b[49m\u001b[38;5;241;43m.\u001b[39;49m\u001b[43mlistdir\u001b[49m\u001b[43m(\u001b[49m\u001b[43mtrain_img_dir_n\u001b[49m\u001b[43m)\u001b[49m]\n",
      "\u001b[1;31mFileNotFoundError\u001b[0m: [WinError 3] The system cannot find the path specified: 'datasetBig\\\\pn_dataset/cassava'"
     ]
    }
   ],
   "source": [
    "train_img_dir_n = r\"datasetBig\\pn_dataset/cassava\"\n",
    "train_img_paths_n = [join(train_img_dir_n,filename) for filename in os.listdir(train_img_dir_n)]"
   ]
  },
  {
   "cell_type": "code",
   "execution_count": null,
   "id": "73a95538",
   "metadata": {},
   "outputs": [],
   "source": [
    "train_img_paths, test_img_paths_cassava = train_test_split(train_img_paths_n, test_size=0.25, random_state=42)\n",
    "train_img_paths, val_img_paths_cassava = train_test_split(train_img_paths, test_size=0.25, random_state=42)"
   ]
  },
  {
   "cell_type": "code",
   "execution_count": null,
   "id": "39a4c259",
   "metadata": {},
   "outputs": [],
   "source": [
    "natural_images_path = r\"datasetBig\\pn_dataset/\"\n",
    "test_img_paths_no_cassava = []\n",
    "for d in [d for d in os.listdir(r\"datasetBig\\pn_dataset\") if d!= \"cassava\"]:\n",
    "    test_img_dir_na = natural_images_path+d\n",
    "    test_img_paths_no_cassava.append([join(test_img_dir_na,filename) for filename in os.listdir(test_img_dir_na)])\n",
    "    \n",
    "test_img_paths_no_cassava_flat = [item for sublist in test_img_paths_no_cassava for item in sublist]\n",
    "test_img_paths_no_cassava, val_img_paths_no_cassava = train_test_split(test_img_paths_no_cassava_flat, test_size = 0.25, random_state = 42)"
   ]
  },
  {
   "cell_type": "code",
   "execution_count": null,
   "id": "220a1cf1",
   "metadata": {},
   "outputs": [],
   "source": [
    "def natural_img_dir(image_path):\n",
    "    path_regex = r\"pn_dataset\\/(\\w*)\"\n",
    "    if 'pn_dataset' in image_path:\n",
    "        return re.findall(path_regex,image_path,re.MULTILINE)[0].strip()\n",
    "    else:\n",
    "        return 'cassava'"
   ]
  },
  {
   "cell_type": "code",
   "execution_count": null,
   "id": "d36721e0",
   "metadata": {
    "scrolled": true
   },
   "outputs": [],
   "source": [
    "all_test_paths = test_img_paths_cassava+test_img_paths_no_cassava\n",
    "test_path_df = pd.DataFrame({\n",
    "    'path': all_test_paths,\n",
    "    'is_cassava': [1 if path in test_img_paths_cassava else 0 for path in all_test_paths]\n",
    "})\n",
    "test_path_df = shuffle(test_path_df,random_state = 0).reset_index(drop = True)\n",
    "test_path_df['image_type'] = test_path_df['path'].apply(lambda x: natural_img_dir(x))\n",
    "all_test_paths = test_path_df['path'].tolist()"
   ]
  },
  {
   "cell_type": "code",
   "execution_count": null,
   "id": "021f1d0d",
   "metadata": {},
   "outputs": [],
   "source": [
    "print('Distribution of Image Types in Test Set')\n",
    "print(test_path_df['image_type'].value_counts())"
   ]
  },
  {
   "cell_type": "code",
   "execution_count": null,
   "id": "f191ca00",
   "metadata": {},
   "outputs": [],
   "source": [
    "all_val_paths = val_img_paths_cassava+val_img_paths_no_cassava\n",
    "val_path_df = pd.DataFrame({\n",
    "    'path': all_val_paths,\n",
    "    'is_cassava': [1 if path in val_img_paths_cassava else 0 for path in all_val_paths]\n",
    "})\n",
    "val_path_df = shuffle(val_path_df,random_state = 0).reset_index(drop = True)\n",
    "val_path_df['image_type'] = val_path_df['path'].apply(lambda x: natural_img_dir(x))\n",
    "all_val_paths = val_path_df['path'].tolist()"
   ]
  },
  {
   "cell_type": "code",
   "execution_count": null,
   "id": "107147ab",
   "metadata": {
    "scrolled": true
   },
   "outputs": [],
   "source": [
    "print('Distribution of Image Types in Validation Set')\n",
    "print(val_path_df['image_type'].value_counts())"
   ]
  },
  {
   "cell_type": "markdown",
   "id": "50db608b",
   "metadata": {},
   "source": [
    "# Feature Extraction With ResNet50"
   ]
  },
  {
   "cell_type": "code",
   "execution_count": null,
   "id": "a45c723c",
   "metadata": {},
   "outputs": [],
   "source": [
    "# prepare images for resnet50\n",
    "image_size = 84\n",
    "def read_and_prep_images(img_paths, img_height=image_size, img_width=image_size):\n",
    "    imgs = [load_img(img_path, target_size=(img_height, img_width)) for img_path in img_paths]\n",
    "    img_array = np.array([img_to_array(img) for img in imgs])\n",
    "    #output = img_array\n",
    "    output = preprocess_input(img_array)\n",
    "    return(output)"
   ]
  },
  {
   "cell_type": "code",
   "execution_count": null,
   "id": "c712a59f",
   "metadata": {},
   "outputs": [],
   "source": [
    "X_train = read_and_prep_images(train_img_paths)\n",
    "X_test = read_and_prep_images(all_test_paths)\n",
    "X_val = read_and_prep_images(all_val_paths)"
   ]
  },
  {
   "cell_type": "code",
   "execution_count": null,
   "id": "0cccb187",
   "metadata": {},
   "outputs": [],
   "source": [
    "# get features from resnet50 \n",
    "\n",
    "# resnet_weights_path = 'C:\\Github\\Cassava-Disease-Classification-Using-Line-BOT\\resNet50\\resnet50_weights_tf_dim_ordering_tf_kernels_notop.h5'\n",
    "\n",
    "# X : images numpy array\n",
    "\n"
   ]
  },
  {
   "cell_type": "code",
   "execution_count": null,
   "id": "43a8ec42",
   "metadata": {
    "scrolled": false
   },
   "outputs": [],
   "source": [
    "# get features from resnet50 \n",
    "\n",
    "# resnet_weights_path = 'C:\\Github\\Cassava-Disease-Classification-Using-Line-BOT\\resNet50\\resnet50_weights_tf_dim_ordering_tf_kernels_notop.h5'\n",
    "\n",
    "# X : images numpy array\n",
    "\n",
    "from tensorflow.keras.applications import ResNet50\n",
    "resnet_model = ResNet50(input_shape=(image_size, image_size, 3),weights=\"imagenet\",include_top=False, pooling='avg')  # Since top layer is the fc layer used for predictions\n",
    "\n",
    "X_train = resnet_model.predict(X_train)\n",
    "X_test = resnet_model.predict(X_test)\n",
    "X_val = resnet_model.predict(X_val)"
   ]
  },
  {
   "cell_type": "markdown",
   "id": "845eba67",
   "metadata": {},
   "source": [
    "# Scaling and PCA"
   ]
  },
  {
   "cell_type": "code",
   "execution_count": null,
   "id": "2a1e94f0",
   "metadata": {},
   "outputs": [],
   "source": [
    "# # Apply standard scaler to output from resnet50\n",
    "# ss = StandardScaler()\n",
    "# ss.fit(X_train)\n",
    "# X_train = ss.transform(X_train)\n",
    "# X_test = ss.transform(X_test)\n",
    "# X_val = ss.transform(X_val)\n",
    "\n",
    "# # Take PCA to reduce feature space dimensionality\n",
    "# pca = PCA(n_components=512, whiten=True)\n",
    "# pca = pca.fit(X_train)\n",
    "# print('Explained variance percentage = %0.2f' % sum(pca.explained_variance_ratio_))\n",
    "# X_train = pca.transform(X_train)\n",
    "# X_test = pca.transform(X_test)\n",
    "# X_val = pca.transform(X_val)"
   ]
  },
  {
   "cell_type": "markdown",
   "id": "484fc3c3",
   "metadata": {},
   "source": [
    "# One Class SVM vs Isolation Forest"
   ]
  },
  {
   "cell_type": "code",
   "execution_count": null,
   "id": "6b49e058",
   "metadata": {},
   "outputs": [],
   "source": [
    "# Train classifier and obtain predictions for OC-SVM\n",
    "oc_svm_clf = svm.OneClassSVM(gamma=0.001, kernel='rbf', nu=0.08)  # Obtained using grid search\n",
    "if_clf = IsolationForest(contamination=0.08, max_features=1.0, max_samples=1.0, n_estimators=40)  # Obtained using grid search\n",
    "\n",
    "oc_svm_clf.fit(X_train)\n",
    "if_clf.fit(X_train)\n",
    "\n",
    "oc_svm_preds = oc_svm_clf.predict(X_test)\n",
    "if_preds = if_clf.predict(X_test)"
   ]
  },
  {
   "cell_type": "code",
   "execution_count": null,
   "id": "842f01b0",
   "metadata": {},
   "outputs": [],
   "source": [
    "svm_if_results=pd.DataFrame({\n",
    "  'path': all_test_paths,\n",
    "  'oc_svm_preds': [0 if x == -1 else 1 for x in oc_svm_preds],\n",
    "  'if_preds': [0 if x == -1 else 1 for x in if_preds]\n",
    "})\n",
    "\n",
    "\n",
    "svm_if_results=svm_if_results.merge(test_path_df)\n",
    "svm_if_results.head()"
   ]
  },
  {
   "cell_type": "code",
   "execution_count": null,
   "id": "1d579316",
   "metadata": {},
   "outputs": [],
   "source": [
    "print('roc auc score: if_preds')\n",
    "if_preds=svm_if_results['if_preds']\n",
    "actual=svm_if_results['is_cassava']\n",
    "print(roc_auc_score(actual, if_preds))\n",
    "print(classification_report(actual, if_preds))\n",
    "sns.heatmap(confusion_matrix(actual, if_preds),annot=True,fmt='2.0f')\n",
    "plt.show()"
   ]
  },
  {
   "cell_type": "code",
   "execution_count": null,
   "id": "30f58afe",
   "metadata": {},
   "outputs": [],
   "source": [
    "print('roc auc score: oc_svm_preds')\n",
    "oc_svm_preds=svm_if_results['oc_svm_preds']\n",
    "actual=svm_if_results['is_cassava']\n",
    "print(roc_auc_score(actual, oc_svm_preds))\n",
    "print(classification_report(actual, oc_svm_preds))\n",
    "sns.heatmap(confusion_matrix(actual, oc_svm_preds),annot=True,fmt='2.0f',cmap='Blues')\n",
    "plt.show()"
   ]
  },
  {
   "cell_type": "code",
   "execution_count": null,
   "id": "e185ad9f",
   "metadata": {
    "scrolled": false
   },
   "outputs": [],
   "source": [
    "for index, row in svm_if_results[svm_if_results['oc_svm_preds']!=svm_if_results['is_cassava']].head(2).iterrows():\n",
    "    if row['oc_svm_preds']==1:\n",
    "        print('FALSE POSITIVE')\n",
    "        print('oc_svm_preds: ' + str(row['oc_svm_preds']) + ' | actual: '+ str(row['is_cassava']))\n",
    "        display(Image(row['path']))\n",
    "    else:\n",
    "        print('FALSE NEGATIVE')\n",
    "        print('oc_svm_preds: ' + str(row['oc_svm_preds']) + ' | actual: '+ str(row['is_cassava']))\n",
    "        display(Image(row['path']))"
   ]
  },
  {
   "cell_type": "code",
   "execution_count": null,
   "id": "c0be1473",
   "metadata": {},
   "outputs": [],
   "source": [
    "# Save Model \n",
    "pickle.dump(oc_svm_clf, open(\"model/OCC_SVM_VER_01.sav\", 'wb'))"
   ]
  },
  {
   "cell_type": "markdown",
   "id": "c231bec8",
   "metadata": {},
   "source": [
    "# Prediction"
   ]
  },
  {
   "cell_type": "code",
   "execution_count": null,
   "id": "5031629f",
   "metadata": {},
   "outputs": [],
   "source": [
    "import pickle\n",
    "import cv2 as cv\n",
    "from tensorflow.keras.applications import ResNet50\n",
    "from tensorflow.keras.applications.resnet50 import preprocess_input\n",
    "from tensorflow.keras.preprocessing.image import load_img"
   ]
  },
  {
   "cell_type": "code",
   "execution_count": null,
   "id": "0512c1fa",
   "metadata": {},
   "outputs": [],
   "source": [
    "# predict one by one , Khae Long Mai Ru Thuk Mai\n",
    "\n",
    "def pred_(img_path):\n",
    "    image_size = 128\n",
    "\n",
    "    # Initialize model \n",
    "    occ_model = pickle.load(open(\"model/OCC_SVM_VER_01.sav\", 'rb'))\n",
    "    resnet_model = ResNet50(input_shape=(image_size, image_size, 3), weights=\"imagenet\", include_top=False, pooling='avg') \n",
    "\n",
    "    # Load Image\n",
    "    test_imgs = cv.imread(img_path)\n",
    "    type(test_imgs)\n",
    "    test_imgs = cv.cvtColor(test_imgs, cv.COLOR_BGR2RGB)\n",
    "    test_imgs = cv.resize(test_imgs, (image_size, image_size)).reshape(-1, image_size, image_size, 3)\n",
    "    output = preprocess_input(test_imgs)\n",
    "\n",
    "    # Feature Extraction Using RESNET-50\n",
    "    img_predict = resnet_model.predict(output)\n",
    "\n",
    "    # Predict \n",
    "    oc_svm_preds = occ_model.predict(img_predict)\n",
    "\n",
    "    # output\n",
    "    if(oc_svm_preds[0]==-1):\n",
    "        pred = 0\n",
    "    else:\n",
    "        pred = 1\n",
    "    print(f\"RESULT : {pred}\")\n"
   ]
  },
  {
   "cell_type": "code",
   "execution_count": null,
   "id": "dfbba9d6",
   "metadata": {},
   "outputs": [],
   "source": [
    "# display(load_img(r\"test\\01.jpg\"))\n",
    "# pred_(r\"test\\01.jpg\")\n",
    "# display(load_img(r\"test\\02.jpg\"))\n",
    "# pred_(r\"test\\02.jpg\")"
   ]
  },
  {
   "cell_type": "code",
   "execution_count": null,
   "id": "441afadb",
   "metadata": {},
   "outputs": [],
   "source": []
  },
  {
   "cell_type": "code",
   "execution_count": null,
   "id": "5af2b8b6",
   "metadata": {},
   "outputs": [],
   "source": []
  },
  {
   "cell_type": "code",
   "execution_count": null,
   "id": "cb9d862c",
   "metadata": {},
   "outputs": [],
   "source": []
  }
 ],
 "metadata": {
  "kernelspec": {
   "display_name": "Python [conda env:forecastAI]",
   "language": "python",
   "name": "conda-env-forecastAI-py"
  },
  "language_info": {
   "codemirror_mode": {
    "name": "ipython",
    "version": 3
   },
   "file_extension": ".py",
   "mimetype": "text/x-python",
   "name": "python",
   "nbconvert_exporter": "python",
   "pygments_lexer": "ipython3",
   "version": "3.9.15"
  }
 },
 "nbformat": 4,
 "nbformat_minor": 5
}
