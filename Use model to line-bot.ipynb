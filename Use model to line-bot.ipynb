{
 "cells": [
  {
   "cell_type": "code",
   "execution_count": 2,
   "id": "b621ee0c",
   "metadata": {},
   "outputs": [],
   "source": [
    "from tensorflow.keras.applications import ResNet50\n",
    "image_size = 128\n",
    "resnet_model = ResNet50(input_shape=(image_size, image_size, 3), weights=\"imagenet\", include_top=False, pooling='avg') "
   ]
  },
  {
   "cell_type": "code",
   "execution_count": 5,
   "id": "16be314c",
   "metadata": {},
   "outputs": [
    {
     "name": "stderr",
     "output_type": "stream",
     "text": [
      "C:\\Users\\tam05\\anaconda3\\envs\\AI4H\\lib\\site-packages\\sklearn\\base.py:299: UserWarning: Trying to unpickle estimator OneClassSVM from version 1.0.2 when using version 1.2.1. This might lead to breaking code or invalid results. Use at your own risk. For more info please refer to:\n",
      "https://scikit-learn.org/stable/model_persistence.html#security-maintainability-limitations\n",
      "  warnings.warn(\n"
     ]
    }
   ],
   "source": [
    "import pickle\n",
    "occ_model = pickle.load(open(\"C:\\Github\\Cassava-Disease-Classification-Using-Line-BOT\\OCC-Cassava-TryToTune\\model\\OCC_SVM_VER_02.sav\", 'rb'))"
   ]
  },
  {
   "cell_type": "code",
   "execution_count": 7,
   "id": "6535c666",
   "metadata": {},
   "outputs": [],
   "source": [
    "from tensorflow.keras.applications.resnet50 import preprocess_input\n",
    "import cv2 as cv\n",
    "def pred_(img_path):\n",
    "    # Load Image\n",
    "    test_imgs = cv.imread(img_path)\n",
    "    type(test_imgs)\n",
    "    test_imgs = cv.cvtColor(test_imgs, cv.COLOR_BGR2RGB)\n",
    "    test_imgs = cv.resize(test_imgs, (image_size, image_size)).reshape(-1, image_size, image_size, 3)\n",
    "    output = preprocess_input(test_imgs)\n",
    "    \n",
    "    # Feature Extraction Using RESNET-50\n",
    "    img_predict = resnet_model.predict(output)\n",
    "\n",
    "    # Predict \n",
    "    oc_svm_preds = occ_model.predict(img_predict)\n",
    "\n",
    "    # output 1 = It's cassava\n",
    "#            0 = It isn't cassava\n",
    "    if(oc_svm_preds[0]==-1):\n",
    "        return 0\n",
    "    else:\n",
    "        return 1"
   ]
  },
  {
   "cell_type": "code",
   "execution_count": 17,
   "id": "cea07a7b",
   "metadata": {},
   "outputs": [
    {
     "name": "stdout",
     "output_type": "stream",
     "text": [
      "1/1 [==============================] - 2s 2s/step\n",
      "0\n"
     ]
    }
   ],
   "source": [
    "img_path = r\"C:/Github/Cassava-Disease-Classification-Using-Line-BOT/Dataset/natural_images/car/car_0000.jpg\"\n",
    "k = pred_(img_path)\n",
    "print(k)"
   ]
  },
  {
   "cell_type": "code",
   "execution_count": null,
   "id": "965638c9",
   "metadata": {},
   "outputs": [],
   "source": []
  }
 ],
 "metadata": {
  "kernelspec": {
   "display_name": "Python 3 (ipykernel)",
   "language": "python",
   "name": "python3"
  },
  "language_info": {
   "codemirror_mode": {
    "name": "ipython",
    "version": 3
   },
   "file_extension": ".py",
   "mimetype": "text/x-python",
   "name": "python",
   "nbconvert_exporter": "python",
   "pygments_lexer": "ipython3",
   "version": "3.10.4"
  }
 },
 "nbformat": 4,
 "nbformat_minor": 5
}
