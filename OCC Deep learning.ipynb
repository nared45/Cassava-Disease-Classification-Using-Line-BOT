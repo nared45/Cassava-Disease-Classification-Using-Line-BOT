{
 "cells": [
  {
   "cell_type": "code",
   "execution_count": 1,
   "id": "b34b9f5a",
   "metadata": {},
   "outputs": [],
   "source": [
    "from keras.models import Sequential\n",
    "from keras.layers import Conv2D\n",
    "from keras.layers import MaxPooling2D\n",
    "from keras.layers import Flatten\n",
    "from keras.layers import Dense\n",
    "from keras.layers import Dropout\n",
    "from keras.layers import Activation\n",
    "from sklearn.model_selection import train_test_split\n",
    "\n",
    "\n",
    "classifier = Sequential()\n",
    "\n",
    "classifier.add(Conv2D(32, (3, 3), input_shape = (224, 224, 3), activation = 'relu'))\n",
    "classifier.add(MaxPooling2D(pool_size = (2, 2)))\n",
    "\n",
    "classifier.add(Conv2D(32, (3, 3), activation = 'relu'))\n",
    "classifier.add(MaxPooling2D(pool_size=(2, 2)))\n",
    "\n",
    "classifier.add(Conv2D(64, (3, 3), activation = 'relu'))\n",
    "classifier.add(MaxPooling2D(pool_size=(2, 2)))\n",
    "\n",
    "classifier.add(Flatten())\n",
    "\n",
    "classifier.add(Dense(units = 64, activation = 'relu'))\n",
    "\n",
    "classifier.add(Dropout(0.5))\n",
    "\n",
    "# output layer\n",
    "classifier.add(Dense(1))\n",
    "classifier.add(Activation('sigmoid'))"
   ]
  },
  {
   "cell_type": "code",
   "execution_count": 2,
   "id": "0900a780",
   "metadata": {},
   "outputs": [
    {
     "name": "stdout",
     "output_type": "stream",
     "text": [
      "Found 964 images belonging to 1 classes.\n",
      "Found 241 images belonging to 1 classes.\n"
     ]
    }
   ],
   "source": [
    "classifier.compile(optimizer = 'adam', loss = 'binary_crossentropy', metrics = ['accuracy'])\n",
    "\n",
    "\n",
    "from keras.preprocessing.image import ImageDataGenerator\n",
    "\n",
    "train_datagen = ImageDataGenerator(rescale = 1./255,\n",
    "                                   shear_range = 0.2,\n",
    "                                   zoom_range = 0.2,\n",
    "                                   horizontal_flip = True)\n",
    "\n",
    "test_datagen = ImageDataGenerator(rescale = 1./255)\n",
    "train_path = r'C:\\Github\\Cassava-Disease-Classification-Using-Line-BOT\\Dataset\\natural_images\\cassava/'\n",
    "test_path = r'C:\\Github\\Cassava-Disease-Classification-Using-Line-BOT\\Dataset\\natural_images\\cassava_test/'\n",
    "\n",
    "# X_train, X_test, y_train, y_test = train_test_split(x, y, test_size=0.33, random_state=42)\n",
    "\n",
    "training_set = train_datagen.flow_from_directory(train_path,target_size = (224,224),batch_size = 32,class_mode = 'binary')\n",
    "\n",
    "test_set = test_datagen.flow_from_directory(test_path,target_size = (224,224),batch_size = 32,class_mode = 'binary')"
   ]
  },
  {
   "cell_type": "code",
   "execution_count": 4,
   "id": "ab2d8e5f",
   "metadata": {},
   "outputs": [
    {
     "name": "stdout",
     "output_type": "stream",
     "text": [
      "Model: \"sequential\"\n",
      "_________________________________________________________________\n",
      " Layer (type)                Output Shape              Param #   \n",
      "=================================================================\n",
      " conv2d (Conv2D)             (None, 222, 222, 32)      896       \n",
      "                                                                 \n",
      " max_pooling2d (MaxPooling2D  (None, 111, 111, 32)     0         \n",
      " )                                                               \n",
      "                                                                 \n",
      " conv2d_1 (Conv2D)           (None, 109, 109, 32)      9248      \n",
      "                                                                 \n",
      " max_pooling2d_1 (MaxPooling  (None, 54, 54, 32)       0         \n",
      " 2D)                                                             \n",
      "                                                                 \n",
      " conv2d_2 (Conv2D)           (None, 52, 52, 64)        18496     \n",
      "                                                                 \n",
      " max_pooling2d_2 (MaxPooling  (None, 26, 26, 64)       0         \n",
      " 2D)                                                             \n",
      "                                                                 \n",
      " flatten (Flatten)           (None, 43264)             0         \n",
      "                                                                 \n",
      " dense (Dense)               (None, 64)                2768960   \n",
      "                                                                 \n",
      " dropout (Dropout)           (None, 64)                0         \n",
      "                                                                 \n",
      " dense_1 (Dense)             (None, 1)                 65        \n",
      "                                                                 \n",
      " activation (Activation)     (None, 1)                 0         \n",
      "                                                                 \n",
      "=================================================================\n",
      "Total params: 2,797,665\n",
      "Trainable params: 2,797,665\n",
      "Non-trainable params: 0\n",
      "_________________________________________________________________\n"
     ]
    }
   ],
   "source": [
    "classifier.summary()"
   ]
  },
  {
   "cell_type": "code",
   "execution_count": 13,
   "id": "aa42e02c",
   "metadata": {},
   "outputs": [
    {
     "name": "stderr",
     "output_type": "stream",
     "text": [
      "C:\\Users\\tam05\\AppData\\Local\\Temp\\ipykernel_16804\\3049601200.py:1: UserWarning: `Model.fit_generator` is deprecated and will be removed in a future version. Please use `Model.fit`, which supports generators.\n",
      "  history = classifier.fit_generator(training_set,\n"
     ]
    },
    {
     "name": "stdout",
     "output_type": "stream",
     "text": [
      "Epoch 1/25\n",
      "20/20 [==============================] - ETA: 0s - loss: 1.5244e-14 - accuracy: 1.0000WARNING:tensorflow:Your input ran out of data; interrupting training. Make sure that your dataset or generator can generate at least `steps_per_epoch * epochs` batches (in this case, 500 batches). You may need to use the repeat() function when building your dataset.\n",
      "20/20 [==============================] - 27s 1s/step - loss: 1.5244e-14 - accuracy: 1.0000 - val_loss: 0.0000e+00 - val_accuracy: 1.0000\n",
      "Epoch 2/25\n",
      "20/20 [==============================] - 25s 1s/step - loss: 1.0882e-25 - accuracy: 1.0000\n",
      "Epoch 3/25\n",
      "20/20 [==============================] - 25s 1s/step - loss: 7.7544e-28 - accuracy: 1.0000\n",
      "Epoch 4/25\n",
      "20/20 [==============================] - 24s 1s/step - loss: 6.7731e-15 - accuracy: 1.0000\n",
      "Epoch 5/25\n",
      "20/20 [==============================] - 24s 1s/step - loss: 1.0227e-26 - accuracy: 1.0000\n",
      "Epoch 6/25\n",
      "20/20 [==============================] - 25s 1s/step - loss: 2.0208e-08 - accuracy: 1.0000\n",
      "Epoch 7/25\n",
      "20/20 [==============================] - 27s 1s/step - loss: 3.8378e-26 - accuracy: 1.0000\n",
      "Epoch 8/25\n",
      "20/20 [==============================] - 32s 2s/step - loss: 2.2277e-23 - accuracy: 1.0000\n",
      "Epoch 9/25\n",
      "20/20 [==============================] - 40s 2s/step - loss: 2.6146e-17 - accuracy: 1.0000\n",
      "Epoch 10/25\n",
      "20/20 [==============================] - 39s 2s/step - loss: 1.6553e-16 - accuracy: 1.0000\n",
      "Epoch 11/25\n",
      "20/20 [==============================] - 41s 2s/step - loss: 7.7362e-15 - accuracy: 1.0000\n",
      "Epoch 12/25\n",
      "20/20 [==============================] - 40s 2s/step - loss: 2.6479e-21 - accuracy: 1.0000\n",
      "Epoch 13/25\n",
      "20/20 [==============================] - 40s 2s/step - loss: 5.1182e-21 - accuracy: 1.0000\n",
      "Epoch 14/25\n",
      "20/20 [==============================] - 40s 2s/step - loss: 1.5689e-10 - accuracy: 1.0000\n",
      "Epoch 15/25\n",
      "20/20 [==============================] - 42s 2s/step - loss: 3.0919e-27 - accuracy: 1.0000\n",
      "Epoch 16/25\n",
      "20/20 [==============================] - 37s 2s/step - loss: 5.2261e-18 - accuracy: 1.0000\n",
      "Epoch 17/25\n",
      "20/20 [==============================] - 41s 2s/step - loss: 5.3556e-24 - accuracy: 1.0000\n",
      "Epoch 18/25\n",
      "20/20 [==============================] - 44s 2s/step - loss: 5.2855e-26 - accuracy: 1.0000\n",
      "Epoch 19/25\n",
      "20/20 [==============================] - 40s 2s/step - loss: 2.4619e-22 - accuracy: 1.0000\n",
      "Epoch 20/25\n",
      "20/20 [==============================] - 39s 2s/step - loss: 4.6032e-21 - accuracy: 1.0000\n",
      "Epoch 21/25\n",
      "20/20 [==============================] - 42s 2s/step - loss: 9.6136e-25 - accuracy: 1.0000\n",
      "Epoch 22/25\n",
      "20/20 [==============================] - 36s 2s/step - loss: 1.2329e-18 - accuracy: 1.0000\n",
      "Epoch 23/25\n",
      "20/20 [==============================] - 38s 2s/step - loss: 8.3661e-18 - accuracy: 1.0000\n",
      "Epoch 24/25\n",
      "20/20 [==============================] - 39s 2s/step - loss: 4.7715e-21 - accuracy: 1.0000\n",
      "Epoch 25/25\n",
      "20/20 [==============================] - 37s 2s/step - loss: 1.9754e-30 - accuracy: 1.0000\n"
     ]
    }
   ],
   "source": [
    "history = classifier.fit_generator(training_set,\n",
    "                         steps_per_epoch = 20,\n",
    "                         epochs = 25,\n",
    "                         validation_data = test_set,\n",
    "                         validation_steps = 500)"
   ]
  },
  {
   "cell_type": "code",
   "execution_count": 27,
   "id": "cb58619b",
   "metadata": {},
   "outputs": [
    {
     "name": "stdout",
     "output_type": "stream",
     "text": [
      "1/1 [==============================] - 0s 44ms/step\n",
      "{'train_image': 0}\n",
      "This is not cassava\n"
     ]
    }
   ],
   "source": [
    "from tensorflow.keras.preprocessing import image\n",
    "import numpy as np \n",
    "\n",
    "test_image = image.load_img(r'C:\\Github\\Cassava-Disease-Classification-Using-Line-BOT\\Dataset\\natural_images\\cassava\\train_image\\1111288187.jpg', target_size = (224, 224))\n",
    "# test_image.show()\n",
    "test_image = image.img_to_array(test_image)\n",
    "test_image = np.expand_dims(test_image, axis = 0)\n",
    "result = classifier.predict(test_image)\n",
    "print(training_set.class_indices)\n",
    "if result[0][0] == 1:\n",
    "    prediction = 'This is cassava'\n",
    "else:\n",
    "    prediction = 'This is not cassava'\n",
    "\n",
    "print(prediction)"
   ]
  },
  {
   "cell_type": "code",
   "execution_count": null,
   "id": "c2e771ff",
   "metadata": {},
   "outputs": [],
   "source": []
  }
 ],
 "metadata": {
  "kernelspec": {
   "display_name": "Python 3 (ipykernel)",
   "language": "python",
   "name": "python3"
  },
  "language_info": {
   "codemirror_mode": {
    "name": "ipython",
    "version": 3
   },
   "file_extension": ".py",
   "mimetype": "text/x-python",
   "name": "python",
   "nbconvert_exporter": "python",
   "pygments_lexer": "ipython3",
   "version": "3.10.4"
  }
 },
 "nbformat": 4,
 "nbformat_minor": 5
}
