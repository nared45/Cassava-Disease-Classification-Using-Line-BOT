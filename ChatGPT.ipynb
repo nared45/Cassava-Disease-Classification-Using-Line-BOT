{
 "cells": [
  {
   "cell_type": "code",
   "execution_count": 9,
   "id": "bb137881",
   "metadata": {},
   "outputs": [
    {
     "name": "stdout",
     "output_type": "stream",
     "text": [
      "True Positives: 199\n",
      "False Positives: 0\n",
      "True Negatives: 0\n",
      "False Negatives: 42\n"
     ]
    }
   ],
   "source": [
    "import os\n",
    "import numpy as np\n",
    "from sklearn.utils import shuffle\n",
    "from sklearn.svm import OneClassSVM\n",
    "from sklearn.metrics import confusion_matrix\n",
    "from joblib import dump, load\n",
    "from tensorflow.keras.preprocessing.image import load_img, img_to_array\n",
    "\n",
    "# Define the directories for the cassava dataset\n",
    "cassava_dir = 'C:\\\\Github\\\\Cassava-Disease-Classification-Using-Line-BOT\\\\Dataset\\\\natural_images\\\\cassava\\\\train_image'\n",
    "\n",
    "# Define the image size\n",
    "img_size = (256, 256)\n",
    "\n",
    "# Load the cassava images as numpy arrays\n",
    "cassava_files = os.listdir(cassava_dir)\n",
    "cassava_images = []\n",
    "for filename in cassava_files:\n",
    "    img = load_img(os.path.join(cassava_dir, filename), target_size=img_size)\n",
    "    arr = img_to_array(img)\n",
    "    cassava_images.append(arr)\n",
    "cassava_images = np.array(cassava_images)\n",
    "\n",
    "# Shuffle the cassava images\n",
    "cassava_images = shuffle(cassava_images, random_state=42)\n",
    "\n",
    "# Set the number of training examples\n",
    "num_train = int(0.8 * len(cassava_images))\n",
    "\n",
    "# Split the cassava images into training and validation sets\n",
    "cassava_train = cassava_images[:num_train]\n",
    "cassava_val = cassava_images[num_train:]\n",
    "\n",
    "# Fit a One Class Classifier to the training set\n",
    "clf = OneClassSVM(nu=0.1, kernel='rbf', gamma='scale')\n",
    "clf.fit(cassava_train.reshape(num_train, -1))\n",
    "\n",
    "# Save the One Class Classifier model\n",
    "model_dir = 'C:\\\\Github\\\\Cassava-Disease-Classification-Using-Line-BOT\\\\model'\n",
    "dump(clf, os.path.join(model_dir, 'oc_classifier.joblib'))\n",
    "\n",
    "# Load the One Class Classifier model\n",
    "clf = load(os.path.join(model_dir, 'oc_classifier.joblib'))\n",
    "\n",
    "# Test the One Class Classifier on the validation set\n",
    "y_pred_val = clf.predict(cassava_val.reshape(len(cassava_val), -1))\n",
    "\n",
    "# Compute the confusion matrix for the validation set\n",
    "tn, fp, fn, tp = confusion_matrix(np.ones(len(cassava_val)), np.where(y_pred_val == 1, 1, -1)).ravel()\n",
    "\n",
    "# Print the confusion matrix\n",
    "print(\"True Positives:\", tp)\n",
    "print(\"False Positives:\", fp)\n",
    "print(\"True Negatives:\", tn)\n",
    "print(\"False Negatives:\", fn)"
   ]
  },
  {
   "cell_type": "code",
   "execution_count": 26,
   "id": "766e5a66",
   "metadata": {},
   "outputs": [
    {
     "name": "stdout",
     "output_type": "stream",
     "text": [
      "The new image is a cassava image.\n"
     ]
    }
   ],
   "source": [
    "new_image_dir = \"C:\\\\Github\\\\Cassava-Disease-Classification-Using-Line-BOT\\\\Dataset\\\\natural_images\\\\airplane\\\\airplane_0001.jpg\"\n",
    "new_image_dir = \"C:\\\\Github\\\\Cassava-Disease-Classification-Using-Line-BOT\\\\Dataset\\\\natural_images\\\\car\\\\car_0030.jpg\"\n",
    "new_image_dir = \"C:\\\\Github\\\\Cassava-Disease-Classification-Using-Line-BOT\\Dataset\\\\natural_images\\\\cat\\\\cat_0131.jpg\"\n",
    "new_image_dir = \"C:\\\\Github\\\\Cassava-Disease-Classification-Using-Line-BOT\\Dataset\\\\natural_images\\\\dog\\\\dog_0131.jpg\"\n",
    "new_image_dir = \"C:\\\\Github\\\\Cassava-Disease-Classification-Using-Line-BOT\\Dataset\\\\natural_images\\\\flower\\\\flower_0016.jpg\"\n",
    "new_image_dir = \"C:\\\\Github\\\\Cassava-Disease-Classification-Using-Line-BOT\\Dataset\\\\natural_images\\\\fruit\\\\fruit_0022.jpg\"\n",
    "new_image_dir = \"C:\\\\Github\\\\Cassava-Disease-Classification-Using-Line-BOT\\Dataset\\\\natural_images\\\\motorbike\\\\motorbike_0069.jpg\"\n",
    "new_image_dir = \"C:\\\\Github\\\\Cassava-Disease-Classification-Using-Line-BOT\\Dataset\\\\natural_images\\\\person\\\\person_0114.jpg\"\n",
    "new_image_dir = \"C:\\\\Users\\\\tam05\\\\Downloads\\\\1.jpeg\"\n",
    "new_image = load_img(new_image_dir, target_size=img_size)\n",
    "new_image = img_to_array(new_image)\n",
    "\n",
    "new_image_1d = new_image.reshape(1, -1)\n",
    "\n",
    "# Make predictions on the new image using the One Class Classifier model\n",
    "prediction = clf.predict(new_image_1d)\n",
    "\n",
    "# Print the prediction\n",
    "if prediction == 1:\n",
    "    print(\"The new image is a cassava image.\")\n",
    "else:\n",
    "    print(\"The new image is not a cassava image.\")"
   ]
  },
  {
   "cell_type": "code",
   "execution_count": null,
   "id": "41bc892f",
   "metadata": {},
   "outputs": [],
   "source": []
  }
 ],
 "metadata": {
  "kernelspec": {
   "display_name": "Python 3 (ipykernel)",
   "language": "python",
   "name": "python3"
  },
  "language_info": {
   "codemirror_mode": {
    "name": "ipython",
    "version": 3
   },
   "file_extension": ".py",
   "mimetype": "text/x-python",
   "name": "python",
   "nbconvert_exporter": "python",
   "pygments_lexer": "ipython3",
   "version": "3.10.4"
  }
 },
 "nbformat": 4,
 "nbformat_minor": 5
}
