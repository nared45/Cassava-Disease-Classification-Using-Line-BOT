{
 "cells": [
  {
   "cell_type": "code",
   "execution_count": 1,
   "id": "002dafc6",
   "metadata": {},
   "outputs": [],
   "source": [
    "from IPython.display import Image, display\n",
    "import numpy as np\n",
    "import os\n",
    "from os.path import join\n",
    "from PIL import ImageFile\n",
    "import pandas as pd\n",
    "from matplotlib import cm\n",
    "import seaborn as sns\n",
    "from tensorflow.keras.models import Sequential\n",
    "from tensorflow.keras.layers import Dense, Flatten, GlobalAveragePooling2D\n",
    "from tensorflow.keras.preprocessing.image import ImageDataGenerator\n",
    "from tensorflow.keras.applications import ResNet50\n",
    "from tensorflow.keras.applications.resnet50 import preprocess_input\n",
    "from tensorflow.keras.preprocessing.image import load_img, img_to_array\n",
    "from sklearn.metrics import mean_squared_error, mean_absolute_error, roc_auc_score, classification_report, confusion_matrix\n",
    "import matplotlib.pyplot as plt\n",
    "from sklearn.utils import shuffle\n",
    "from sklearn.model_selection import train_test_split\n",
    "from sklearn.preprocessing import StandardScaler\n",
    "from sklearn.decomposition import PCA\n",
    "from sklearn.ensemble import IsolationForest\n",
    "from sklearn import svm\n",
    "from sklearn.mixture import GaussianMixture\n",
    "from sklearn.isotonic import IsotonicRegression\n",
    "import re\n",
    "\n",
    "ImageFile.LOAD_TRUNCATED_IMAGES = True\n",
    "plt.style.use('fivethirtyeight')\n",
    "%matplotlib inline"
   ]
  },
  {
   "cell_type": "code",
   "execution_count": 2,
   "id": "e5d5604a",
   "metadata": {},
   "outputs": [],
   "source": [
    "train_img_dir_n = \"C:\\\\Github\\\\Cassava-Disease-Classification-Using-Line-BOT\\\\Dataset\\\\natural_images\\\\cassava\"\n",
    "train_img_paths_n = [join(train_img_dir_n,filename) for filename in os.listdir(train_img_dir_n)]"
   ]
  },
  {
   "cell_type": "code",
   "execution_count": 3,
   "id": "73a95538",
   "metadata": {},
   "outputs": [],
   "source": [
    "train_img_paths, test_img_paths_cassava = train_test_split(train_img_paths_n, test_size=0.25, random_state=42)\n",
    "train_img_paths, val_img_paths_cassava = train_test_split(train_img_paths, test_size=0.25, random_state=42)"
   ]
  },
  {
   "cell_type": "code",
   "execution_count": 4,
   "id": "39a4c259",
   "metadata": {},
   "outputs": [],
   "source": [
    "natural_images_path = \"C:\\\\Github\\\\Cassava-Disease-Classification-Using-Line-BOT\\\\Dataset\\\\natural_images\\\\\"\n",
    "test_img_paths_no_cassava = []\n",
    "for d in [d for d in os.listdir(\"C:\\\\Github\\\\Cassava-Disease-Classification-Using-Line-BOT\\\\Dataset\\\\natural_images\") if d!= \"cassava\"]:\n",
    "    test_img_dir_na = natural_images_path+d\n",
    "    test_img_paths_no_cassava.append([join(test_img_dir_na,filename) for filename in os.listdir(test_img_dir_na)])\n",
    "    \n",
    "test_img_paths_no_cassava_flat = [item for sublist in test_img_paths_no_cassava for item in sublist]\n",
    "test_img_paths_no_cassava, val_img_paths_no_cassava = train_test_split(test_img_paths_no_cassava_flat, test_size = 0.25, random_state = 42)"
   ]
  },
  {
   "cell_type": "code",
   "execution_count": 5,
   "id": "220a1cf1",
   "metadata": {},
   "outputs": [],
   "source": [
    "def natural_img_dir(image_path):\n",
    "    path_regex = r'natural_images\\\\(W*)'\n",
    "    if 'natural_images' in image_path:\n",
    "        return re.findall(path_regex,image_path,re.MULTILINE)[0].strip()\n",
    "    else:\n",
    "        return 'cassava'"
   ]
  },
  {
   "cell_type": "code",
   "execution_count": 6,
   "id": "d36721e0",
   "metadata": {},
   "outputs": [],
   "source": [
    "all_test_paths = test_img_paths_cassava+test_img_paths_no_cassava\n",
    "test_path_df = pd.DataFrame({'path': all_test_paths,'is_cassava': [1 if path in test_img_paths_cassava else 0 \n",
    "                                                                  for path in all_test_paths]})\n",
    "test_path_df = shuffle(test_path_df,random_state = 0).reset_index(drop = True)\n",
    "test_path_df['image_type'] = test_path_df['path'].apply(lambda x: natural_img_dir(x))\n",
    "all_test_paths = test_path_df['path'].tolist()"
   ]
  },
  {
   "cell_type": "code",
   "execution_count": 7,
   "id": "f191ca00",
   "metadata": {},
   "outputs": [],
   "source": [
    "all_val_paths = val_img_paths_cassava+val_img_paths_no_cassava\n",
    "val_path_df = pd.DataFrame({\n",
    "    'path': all_val_paths,\n",
    "    'is_cassava': [1 if path in val_img_paths_cassava else 0 for path in all_val_paths]\n",
    "})\n",
    "val_path_df = shuffle(val_path_df,random_state = 0).reset_index(drop = True)\n",
    "val_path_df['image_type'] = val_path_df['path'].apply(lambda x: natural_img_dir(x))\n",
    "all_val_paths = val_path_df['path'].tolist()"
   ]
  },
  {
   "cell_type": "code",
   "execution_count": null,
   "id": "db03d9f9",
   "metadata": {
    "scrolled": true
   },
   "outputs": [],
   "source": [
    "image_size = 224\n",
    "\n",
    "def read_and_prep_images(img_paths, img_height=image_size, img_width=image_size):\n",
    "    imgs = [load_img(img_path, target_size=(img_height, img_width)) for img_path in img_paths]\n",
    "    img_array = np.array([img_to_array(img) for img in imgs])\n",
    "    #output = img_array\n",
    "    output = preprocess_input(img_array)\n",
    "    return(output)\n",
    "\n",
    "X_train = read_and_prep_images(train_img_paths)\n",
    "X_test = read_and_prep_images(all_test_paths)\n",
    "X_val = read_and_prep_images(all_val_paths)"
   ]
  },
  {
   "cell_type": "code",
   "execution_count": null,
   "id": "5731a16b",
   "metadata": {},
   "outputs": [],
   "source": [
    "X_train.shape"
   ]
  },
  {
   "cell_type": "code",
   "execution_count": null,
   "id": "6b49e058",
   "metadata": {},
   "outputs": [],
   "source": []
  }
 ],
 "metadata": {
  "kernelspec": {
   "display_name": "Python 3 (ipykernel)",
   "language": "python",
   "name": "python3"
  },
  "language_info": {
   "codemirror_mode": {
    "name": "ipython",
    "version": 3
   },
   "file_extension": ".py",
   "mimetype": "text/x-python",
   "name": "python",
   "nbconvert_exporter": "python",
   "pygments_lexer": "ipython3",
   "version": "3.10.4"
  }
 },
 "nbformat": 4,
 "nbformat_minor": 5
}
